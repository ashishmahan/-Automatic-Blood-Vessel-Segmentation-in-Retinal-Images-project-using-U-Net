{
  "nbformat": 4,
  "nbformat_minor": 0,
  "metadata": {
    "colab": {
      "provenance": []
    },
    "kernelspec": {
      "name": "python3",
      "display_name": "Python 3"
    },
    "language_info": {
      "name": "python"
    }
  },
  "cells": [
    {
      "cell_type": "code",
      "execution_count": null,
      "metadata": {
        "id": "Fndmf9wZy9V9"
      },
      "outputs": [],
      "source": [
        "import cv2\n",
        "import numpy as np\n",
        "import os\n",
        "\n",
        "# Load images and masks\n",
        "def load_images_from_folder(folder):\n",
        "    images = []\n",
        "    for filename in os.listdir(folder):\n",
        "        img = cv2.imread(os.path.join(folder, filename))\n",
        "        if img is not None:\n",
        "            images.append(img)\n",
        "    return images\n",
        "\n",
        "def load_masks_from_folder(folder):\n",
        "    masks = []\n",
        "    for filename in os.listdir(folder):\n",
        "        img = cv2.imread(os.path.join(folder, filename), cv2.IMREAD_GRAYSCALE)\n",
        "        if img is not None:\n",
        "            masks.append(img)\n",
        "    return masks\n",
        "\n",
        "# Paths to dataset folders\n",
        "image_dir = './data/DRIVE/test/images/'\n",
        "mask_dir = './data/DRIVE/test/1st_manual/'\n",
        "\n",
        "images = load_images_from_folder(image_dir)\n",
        "masks = load_masks_from_folder(mask_dir)\n",
        "\n",
        "# Example function to preprocess images and masks\n",
        "def preprocess_data(images, masks):\n",
        "    resized_images = [cv2.resize(img, (256, 256)) for img in images]\n",
        "    resized_masks = [cv2.resize(mask, (256, 256)) for mask in masks]\n",
        "    normalized_images = [img / 255.0 for img in resized_images]\n",
        "    binarized_masks = [mask / 255.0 for mask in resized_masks]\n",
        "    return np.array(normalized_images), np.array(binarized_masks)\n",
        "\n",
        "X_train, y_train = preprocess_data(images, masks)\n"
      ]
    },
    {
      "cell_type": "code",
      "source": [
        "import tensorflow as tf\n",
        "from tensorflow.keras.models import Model\n",
        "from tensorflow.keras.layers import Input, Conv2D, MaxPooling2D, concatenate, UpSampling2D\n",
        "\n",
        "# Define U-Net model\n",
        "def unet_model(input_size=(256, 256, 3)):\n",
        "    inputs = Input(input_size)\n",
        "    conv1 = Conv2D(64, (3, 3), activation='relu', padding='same')(inputs)\n",
        "    conv1 = Conv2D(64, (3, 3), activation='relu', padding='same')(conv1)\n",
        "    pool1 = MaxPooling2D(pool_size=(2, 2))(conv1)\n",
        "\n",
        "    conv2 = Conv2D(128, (3, 3), activation='relu', padding='same')(pool1)\n",
        "    conv2 = Conv2D(128, (3, 3), activation='relu', padding='same')(conv2)\n",
        "    pool2 = MaxPooling2D(pool_size=(2, 2))(conv2)\n",
        "\n",
        "    conv3 = Conv2D(256, (3, 3), activation='relu', padding='same')(pool2)\n",
        "    conv3 = Conv2D(256, (3, 3), activation='relu', padding='same')(conv3)\n",
        "    pool3 = MaxPooling2D(pool_size=(2, 2))(conv3)\n",
        "\n",
        "    conv4 = Conv2D(512, (3, 3), activation='relu', padding='same')(pool3)\n",
        "    conv4 = Conv2D(512, (3, 3), activation='relu', padding='same')(conv4)\n",
        "\n",
        "    up5 = concatenate([UpSampling2D(size=(2, 2))(conv4), conv3], axis=3)\n",
        "    conv5 = Conv2D(256, (3, 3), activation='relu', padding='same')(up5)\n",
        "    conv5 = Conv2D(256, (3, 3), activation='relu', padding='same')(conv5)\n",
        "\n",
        "    up6 = concatenate([UpSampling2D(size=(2, 2))(conv5), conv2], axis=3)\n",
        "    conv6 = Conv2D(128, (3, 3), activation='relu', padding='same')(up6)\n",
        "    conv6 = Conv2D(128, (3, 3), activation='relu', padding='same')(conv6)\n",
        "\n",
        "    up7 = concatenate([UpSampling2D(size=(2, 2))(conv6), conv1], axis=3)\n",
        "    conv7 = Conv2D(64, (3, 3), activation='relu', padding='same')(up7)\n",
        "    conv7 = Conv2D(64, (3, 3), activation='relu', padding='same')(conv7)\n",
        "\n",
        "    outputs = Conv2D(1, (1, 1), activation='sigmoid')(conv7)\n",
        "\n",
        "    model = Model(inputs=[inputs], outputs=[outputs])\n",
        "    return model\n",
        "\n",
        "# Compile the model\n",
        "model = unet_model()\n",
        "model.compile(optimizer='adam', loss='binary_crossentropy', metrics=['accuracy'])\n"
      ],
      "metadata": {
        "id": "02BLMgcEzChm"
      },
      "execution_count": null,
      "outputs": []
    },
    {
      "cell_type": "code",
      "source": [
        "# Train the U-Net model\n",
        "history = model.fit(X_train, y_train, batch_size=16, epochs=50, validation_split=0.1)\n",
        "\n",
        "# Save the trained model\n",
        "model.save('unet_retinal_segmentation_model.h5')\n"
      ],
      "metadata": {
        "id": "-EgA--xrzFsO"
      },
      "execution_count": null,
      "outputs": []
    },
    {
      "cell_type": "code",
      "source": [
        "def enhance_image(image):\n",
        "    lab = cv2.cvtColor(image, cv2.COLOR_BGR2LAB)\n",
        "    l, a, b = cv2.split(lab)\n",
        "\n",
        "    clahe = cv2.createCLAHE(clipLimit=3.0, tileGridSize=(8,8))\n",
        "    cl = clahe.apply(l)\n",
        "\n",
        "    limg = cv2.merge((cl, a, b))\n",
        "    enhanced_image = cv2.cvtColor(limg, cv2.COLOR_LAB2BGR)\n",
        "\n",
        "    return enhanced_image\n",
        "\n",
        "# Predict using the trained U-Net model\n",
        "def predict_vessels(image, model):\n",
        "    image = enhance_image(image)\n",
        "    image = cv2.resize(image, (256, 256)) / 255.0\n",
        "    image = np.expand_dims(image, axis=0)\n",
        "    pred_mask = model.predict(image)\n",
        "    pred_mask = np.squeeze(pred_mask, axis=0)\n",
        "    pred_mask = (pred_mask > 0.5).astype(np.uint8) * 255\n",
        "    return pred_mask\n",
        "\n",
        "# Example prediction\n",
        "test_image = cv2.imread('./data/DRIVE/test/images/01_test.png')\n",
        "predicted_mask = predict_vessels(test_image, model)\n",
        "\n",
        "# Display result\n",
        "cv2.imshow('Predicted Mask', predicted_mask)\n",
        "cv2.waitKey(0)\n",
        "cv2.destroyAllWindows()\n"
      ],
      "metadata": {
        "id": "KVePIh0nzHuH"
      },
      "execution_count": null,
      "outputs": []
    }
  ]
}